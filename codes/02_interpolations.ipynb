{
 "cells": [
  {
   "cell_type": "markdown",
   "metadata": {},
   "source": [
    "# Dependencies"
   ]
  },
  {
   "cell_type": "code",
   "execution_count": 11,
   "metadata": {},
   "outputs": [],
   "source": [
    "# global dependencies\n",
    "import numpy as np\n",
    "import matplotlib.pyplot as plt\n",
    "from matplotlib.gridspec import GridSpec\n",
    "from PIL import Image"
   ]
  },
  {
   "cell_type": "code",
   "execution_count": 12,
   "metadata": {},
   "outputs": [],
   "source": [
    "# local dependencies\n",
    "from utilities.spatial_modification import nearest_neighbor_interpolation, bilinear_interpolation"
   ]
  },
  {
   "cell_type": "code",
   "execution_count": 13,
   "metadata": {},
   "outputs": [],
   "source": [
    "# to stop printing the last returned value in each cell to the output\n",
    "from IPython.core.interactiveshell import InteractiveShell\n",
    "InteractiveShell.ast_node_interactivity = \"none\""
   ]
  },
  {
   "cell_type": "markdown",
   "metadata": {},
   "source": [
    "# Load Images"
   ]
  },
  {
   "cell_type": "code",
   "execution_count": null,
   "metadata": {},
   "outputs": [],
   "source": [
    "cm = plt.imread('./assets/images/CH02_Fig0222(b)(cameraman).tif')\n",
    "lenna = plt.imread('./assets/images/CH06_Fig0638(a)(lenna_RGB).tif')\n",
    "\n",
    "# plot\n",
    "fig, axs = plt.subplots(nrows=1, ncols=2, figsize=(6, 3), layout='compressed')\n",
    "\n",
    "axs[0].imshow(cm, cmap='gray')\n",
    "axs[0].set_title('cameraman')\n",
    "axs[1].imshow(lenna)\n",
    "axs[1].set_title('lenna')\n",
    "\n",
    "for ax in fig.axes:\n",
    "    ax.set_xticks([])\n",
    "    ax.set_yticks([])\n",
    "\n",
    "plt.show()"
   ]
  },
  {
   "cell_type": "markdown",
   "metadata": {},
   "source": [
    "# Image Interpolation\n",
    "It refers to the “guess” of intensity values at missing locations When resizing an image [Mostly in Down Scaling]\n",
    "   - Nearest Neighbor interpolation\n",
    "   - Bilinear interpolation\n",
    "   - Bicubic interpolation\n",
    "   - Lanczos interpolation\n",
    "   - ..."
   ]
  },
  {
   "cell_type": "markdown",
   "metadata": {},
   "source": [
    "## Nearest Neighbor Interpolation"
   ]
  },
  {
   "cell_type": "code",
   "execution_count": 15,
   "metadata": {},
   "outputs": [],
   "source": [
    "# manual\n",
    "cm_nni_1 = nearest_neighbor_interpolation(cm, new_height=128, new_width=128)\n",
    "cm_nni_2 = nearest_neighbor_interpolation(cm, new_height=32, new_width=32)\n",
    "cm_nni_3 = nearest_neighbor_interpolation(cm, new_height=555, new_width=555)\n",
    "cm_nni_4 = nearest_neighbor_interpolation(cm, new_height=256, new_width=128)\n",
    "cm_nni_5 = nearest_neighbor_interpolation(cm, new_height=128, new_width=256)\n",
    "cm_nni_6 = nearest_neighbor_interpolation(cm, new_height=64, new_width=512)"
   ]
  },
  {
   "cell_type": "code",
   "execution_count": null,
   "metadata": {},
   "outputs": [],
   "source": [
    "# plot\n",
    "nrows = 2\n",
    "ncols = 4\n",
    "fig = plt.figure(figsize=(ncols * 4, nrows * 4), layout='compressed')\n",
    "fig.suptitle(\"Nearest Neighbor Interpolation\")\n",
    "\n",
    "gs = GridSpec(nrows, ncols, figure=fig)\n",
    "ax1 = fig.add_subplot(gs[:, 0])\n",
    "ax2 = fig.add_subplot(gs[0, 1])\n",
    "ax3 = fig.add_subplot(gs[0, 2])\n",
    "ax4 = fig.add_subplot(gs[0, 3])\n",
    "ax5 = fig.add_subplot(gs[1, 1])\n",
    "ax6 = fig.add_subplot(gs[1, 2])\n",
    "ax7 = fig.add_subplot(gs[1, 3])\n",
    "\n",
    "ax1.imshow(cm, cmap='gray', vmin=0, vmax=255)\n",
    "ax1.set_title(f\"Original {cm.shape}\")\n",
    "ax2.imshow(cm_nni_1, cmap='gray', vmin=0, vmax=255)\n",
    "ax2.set_title(f\"{cm_nni_1.shape} [down scaled]\")\n",
    "ax3.imshow(cm_nni_2, cmap='gray', vmin=0, vmax=255)\n",
    "ax3.set_title(f\"{cm_nni_2.shape} [down scaled]\")\n",
    "ax4.imshow(cm_nni_3, cmap='gray', vmin=0, vmax=255)\n",
    "ax4.set_title(f\"{cm_nni_3.shape} [up Scaled]\")\n",
    "ax5.imshow(cm_nni_4, cmap='gray', vmin=0, vmax=255)\n",
    "ax5.set_title(f\"{cm_nni_4.shape}\")\n",
    "ax6.imshow(cm_nni_5, cmap='gray', vmin=0, vmax=255)\n",
    "ax6.set_title(f\"{cm_nni_5.shape}\")\n",
    "ax7.imshow(cm_nni_6, cmap='gray', vmin=0, vmax=255)\n",
    "ax7.set_title(f\"{cm_nni_6.shape}\")\n",
    "\n",
    "plt.show()"
   ]
  },
  {
   "cell_type": "code",
   "execution_count": 17,
   "metadata": {},
   "outputs": [],
   "source": [
    "# using PIL\n",
    "lenna_nni_1 = nearest_neighbor_interpolation(lenna, 128, 128).astype(np.uint8)\n",
    "lenna_nni_2 = nearest_neighbor_interpolation(lenna, 32, 32).astype(np.uint8)\n",
    "lenna_nni_3 = nearest_neighbor_interpolation(lenna, 555, 555).astype(np.uint8)\n",
    "lenna_nni_4 = nearest_neighbor_interpolation(lenna, 256, 128).astype(np.uint8)\n",
    "lenna_nni_5 = nearest_neighbor_interpolation(lenna, 128, 256).astype(np.uint8)\n",
    "lenna_nni_6 = nearest_neighbor_interpolation(lenna, 64, 512).astype(np.uint8)"
   ]
  },
  {
   "cell_type": "code",
   "execution_count": null,
   "metadata": {},
   "outputs": [],
   "source": [
    "# plot\n",
    "nrows = 2\n",
    "ncols = 4\n",
    "fig = plt.figure(figsize=(ncols * 4, nrows * 4), layout='compressed')\n",
    "fig.suptitle(\"Nearest Neighbor Interpolation\")\n",
    "\n",
    "gs = GridSpec(nrows, ncols, figure=fig)\n",
    "ax1 = fig.add_subplot(gs[:, 0])\n",
    "ax2 = fig.add_subplot(gs[0, 1])\n",
    "ax3 = fig.add_subplot(gs[0, 2])\n",
    "ax4 = fig.add_subplot(gs[0, 3])\n",
    "ax5 = fig.add_subplot(gs[1, 1])\n",
    "ax6 = fig.add_subplot(gs[1, 2])\n",
    "ax7 = fig.add_subplot(gs[1, 3])\n",
    "\n",
    "ax1.imshow(lenna, vmin=0, vmax=255)\n",
    "ax1.set_title(f\"Original {lenna.shape}\")\n",
    "ax2.imshow(lenna_nni_1, vmin=0, vmax=255)\n",
    "ax2.set_title(f\"{lenna_nni_1.shape} [down scaled]\")\n",
    "ax3.imshow(lenna_nni_2, vmin=0, vmax=255)\n",
    "ax3.set_title(f\"{lenna_nni_2.shape} [down scaled]\")\n",
    "ax4.imshow(lenna_nni_3, vmin=0, vmax=255)\n",
    "ax4.set_title(f\"{lenna_nni_3.shape} [up Scaled]\")\n",
    "ax5.imshow(lenna_nni_4, vmin=0, vmax=255)\n",
    "ax5.set_title(f\"{lenna_nni_4.shape}\")\n",
    "ax6.imshow(lenna_nni_5, vmin=0, vmax=255)\n",
    "ax6.set_title(f\"{lenna_nni_5.shape}\")\n",
    "ax7.imshow(lenna_nni_6, vmin=0, vmax=255)\n",
    "ax7.set_title(f\"{lenna_nni_6.shape}\")\n",
    "\n",
    "plt.show()"
   ]
  },
  {
   "cell_type": "markdown",
   "metadata": {},
   "source": [
    "## Interpolations Comparison"
   ]
  },
  {
   "cell_type": "code",
   "execution_count": 19,
   "metadata": {},
   "outputs": [],
   "source": [
    "# convert np.ndarray to pil.Image\n",
    "cm_pil = Image.fromarray(cm)\n",
    "cm_pil_2 = Image.fromarray(cm[40:90, 100:150])\n",
    "\n",
    "# several interpolations\n",
    "cm_nni_downscale = cm_pil.resize((100, 100), Image.Resampling.NEAREST)\n",
    "cm_bli_downscale = cm_pil.resize((100, 100), Image.Resampling.BILINEAR)\n",
    "cm_bci_downscale = cm_pil.resize((100, 100), Image.Resampling.BICUBIC)\n",
    "cm_li_downscale = cm_pil.resize((100, 100), Image.Resampling.LANCZOS)\n",
    "\n",
    "cm_nni_upscale = cm_pil_2.resize((256, 256), Image.Resampling.NEAREST)\n",
    "cm_bli_upscale = cm_pil_2.resize((256, 256), Image.Resampling.BILINEAR)\n",
    "cm_bci_upscale = cm_pil_2.resize((256, 256), Image.Resampling.BICUBIC)\n",
    "cm_li_upscale = cm_pil_2.resize((256, 256), Image.Resampling.LANCZOS)"
   ]
  },
  {
   "cell_type": "code",
   "execution_count": null,
   "metadata": {},
   "outputs": [],
   "source": [
    "# plot\n",
    "nrows = 2\n",
    "ncols = 4\n",
    "\n",
    "fig, axs = plt.subplots(nrows, ncols, figsize=(ncols * 4, nrows * 4), layout='compressed')\n",
    "\n",
    "axs[0, 0].imshow(cm_nni_downscale, vmin=0, vmax=255, cmap='gray')\n",
    "axs[0, 0].set_title('NEAREST [downscale]')\n",
    "axs[0, 1].imshow(cm_bli_downscale, vmin=0, vmax=255, cmap='gray')\n",
    "axs[0, 1].set_title('BILINEAR [downscale]')\n",
    "axs[0, 2].imshow(cm_bci_downscale, vmin=0, vmax=255, cmap='gray')\n",
    "axs[0, 2].set_title('BICUBIC [downscale]')\n",
    "axs[0, 3].imshow(cm_li_downscale, vmin=0, vmax=255, cmap='gray')\n",
    "axs[0, 3].set_title('LANCZOS [downscale]')\n",
    "\n",
    "axs[1, 0].imshow(cm_nni_upscale, vmin=0, vmax=255, cmap='gray')\n",
    "axs[1, 0].set_title('NEAREST [upscale]')\n",
    "axs[1, 1].imshow(cm_bli_upscale, vmin=0, vmax=255, cmap='gray')\n",
    "axs[1, 1].set_title('BILINEAR [upscale]')\n",
    "axs[1, 2].imshow(cm_bci_upscale, vmin=0, vmax=255, cmap='gray')\n",
    "axs[1, 2].set_title('BICUBIC [upscale]')\n",
    "axs[1, 3].imshow(cm_li_upscale, vmin=0, vmax=255, cmap='gray')\n",
    "axs[1, 3].set_title('LANCZOS [upscale]')\n",
    "\n",
    "for ax in fig.axes:\n",
    "    ax.set_xticks([])\n",
    "    ax.set_yticks([])\n",
    "\n",
    "plt.show()"
   ]
  }
 ],
 "metadata": {
  "kernelspec": {
   "display_name": "Python 3",
   "language": "python",
   "name": "python3"
  },
  "language_info": {
   "codemirror_mode": {
    "name": "ipython",
    "version": 3
   },
   "file_extension": ".py",
   "mimetype": "text/x-python",
   "name": "python",
   "nbconvert_exporter": "python",
   "pygments_lexer": "ipython3",
   "version": "3.12.3"
  }
 },
 "nbformat": 4,
 "nbformat_minor": 2
}
