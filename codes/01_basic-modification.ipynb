{
 "cells": [
  {
   "cell_type": "markdown",
   "metadata": {},
   "source": [
    "# Dependencies"
   ]
  },
  {
   "cell_type": "code",
   "execution_count": 2,
   "metadata": {},
   "outputs": [],
   "source": [
    "# global dependencies\n",
    "import numpy as np\n",
    "import matplotlib.pyplot as plt\n",
    "from matplotlib.gridspec import GridSpec\n",
    "from PIL import Image"
   ]
  },
  {
   "cell_type": "code",
   "execution_count": 3,
   "metadata": {},
   "outputs": [],
   "source": [
    "# local dependencies\n",
    "from utilities.spatial_modification import inner_rotate, outer_rotate"
   ]
  },
  {
   "cell_type": "markdown",
   "metadata": {},
   "source": [
    "# Load Images"
   ]
  },
  {
   "cell_type": "code",
   "execution_count": 5,
   "metadata": {},
   "outputs": [],
   "source": [
    "cm = plt.imread('./assets/images/CH02_Fig0222(b)(cameraman).tif')\n",
    "lenna = plt.imread('./assets/images/CH06_Fig0638(a)(lenna_RGB).tif')"
   ]
  },
  {
   "cell_type": "code",
   "execution_count": null,
   "metadata": {},
   "outputs": [],
   "source": [
    "# plot\n",
    "fig, axs = plt.subplots(nrows=1, ncols=2, figsize=(6, 3), layout='compressed')\n",
    "\n",
    "axs[0].imshow(cm, cmap='gray')\n",
    "axs[0].set_title('cameraman')\n",
    "axs[1].imshow(lenna)\n",
    "axs[1].set_title('lenna')\n",
    "\n",
    "for ax in fig.axes:\n",
    "    ax.set_xticks([])\n",
    "    ax.set_yticks([])\n",
    "\n",
    "plt.show()"
   ]
  },
  {
   "cell_type": "markdown",
   "metadata": {},
   "source": [
    "# Basic Modifications\n",
    "   - Crop\n",
    "   - Flip\n",
    "   - Circular Shift\n",
    "   - Rotation"
   ]
  },
  {
   "cell_type": "markdown",
   "metadata": {},
   "source": [
    "## 1. Crop"
   ]
  },
  {
   "cell_type": "code",
   "execution_count": 7,
   "metadata": {},
   "outputs": [],
   "source": [
    "cm_crop_1 = cm[:128, :128]\n",
    "cm_crop_2 = cm[64:192, 64:192]\n",
    "cm_crop_3 = cm[50:100, 100:150]\n",
    "\n",
    "lenna_crop_1 = lenna[:256, :256]\n",
    "lenna_crop_2 = lenna[120:300, 120:300]\n",
    "lenna_crop_3 = lenna[250:300, 240:290]"
   ]
  },
  {
   "cell_type": "code",
   "execution_count": null,
   "metadata": {},
   "outputs": [],
   "source": [
    "# plot\n",
    "nrows = 2\n",
    "ncols = 4\n",
    "fontdict = {'family': 'consolas'}\n",
    "\n",
    "fig, axs = plt.subplots(nrows=nrows, ncols=ncols, figsize=(ncols * 4, nrows * 4), layout='compressed')\n",
    "fig.suptitle('CROP')\n",
    "\n",
    "axs[0, 0].imshow(cm, cmap='gray')\n",
    "axs[0, 0].set_title('cm', fontdict={'family': 'consolas'})\n",
    "axs[0, 1].imshow(cm_crop_1, cmap='gray')\n",
    "axs[0, 1].set_title('cm[:128, :128]', fontdict)\n",
    "axs[0, 2].imshow(cm_crop_2, cmap='gray')\n",
    "axs[0, 2].set_title('cm[64:192, 64:192]', fontdict)\n",
    "axs[0, 3].imshow(cm_crop_3, cmap='gray')\n",
    "axs[0, 3].set_title('cm[50:100, 100:150]', fontdict)\n",
    "\n",
    "axs[1, 0].imshow(lenna)\n",
    "axs[1, 0].set_title('lenna', fontdict)\n",
    "axs[1, 1].imshow(lenna_crop_1)\n",
    "axs[1, 1].set_title('lenna[:256, :256]', fontdict)\n",
    "axs[1, 2].imshow(lenna_crop_2)\n",
    "axs[1, 2].set_title('lenna[120:300, 120:300]', fontdict)\n",
    "axs[1, 3].imshow(lenna_crop_3)\n",
    "axs[1, 3].set_title('lenna[250:300, 240:290]', fontdict)\n",
    "\n",
    "for ax in fig.axes:\n",
    "    ax.set_xticks([])\n",
    "    ax.set_yticks([])\n",
    "\n",
    "plt.show()"
   ]
  },
  {
   "cell_type": "markdown",
   "metadata": {},
   "source": [
    "## 2. Flip"
   ]
  },
  {
   "cell_type": "code",
   "execution_count": 9,
   "metadata": {},
   "outputs": [],
   "source": [
    "cm_flip_1 = cm[::-1]       # same as <arr_cm[256:None:-1, :]>\n",
    "cm_flip_2 = cm[:, ::-1]    # same as <arr_cm[:, 255:None:-1]>\n",
    "cm_flip_3 = cm[::-1, ::-1]\n",
    "\n",
    "lenna_flip_1 = lenna[::-1]\n",
    "lenna_flip_2 = lenna[:, ::-1]\n",
    "lenna_flip_3 = lenna[::-1, ::-1]"
   ]
  },
  {
   "cell_type": "code",
   "execution_count": null,
   "metadata": {},
   "outputs": [],
   "source": [
    "# plot\n",
    "nrows = 2\n",
    "ncols = 4\n",
    "fontdict = {'family': 'consolas'}\n",
    "\n",
    "fig, axs = plt.subplots(nrows=nrows, ncols=ncols, figsize=(ncols * 4, nrows * 4), layout='compressed')\n",
    "fig.suptitle('Flip')\n",
    "\n",
    "axs[0, 0].imshow(cm, cmap='gray')\n",
    "axs[0, 0].set_title('cm', fontdict)\n",
    "axs[0, 1].imshow(cm_flip_1, cmap='gray')\n",
    "axs[0, 1].set_title('cm[::-1]', fontdict)\n",
    "axs[0, 2].imshow(cm_flip_2, cmap='gray')\n",
    "axs[0, 2].set_title('cm[:, ::-1]', fontdict)\n",
    "axs[0, 3].imshow(cm_flip_3, cmap='gray')\n",
    "axs[0, 3].set_title('cm[::-1, ::-1]', fontdict)\n",
    "\n",
    "axs[1, 0].imshow(lenna)\n",
    "axs[1, 0].set_title('lenna', fontdict)\n",
    "axs[1, 1].imshow(lenna_flip_1)\n",
    "axs[1, 1].set_title('lenna[::-1]', fontdict)\n",
    "axs[1, 2].imshow(lenna_flip_2)\n",
    "axs[1, 2].set_title('lenna[:, ::-1]', fontdict)\n",
    "axs[1, 3].imshow(lenna_flip_3)\n",
    "axs[1, 3].set_title('lenna[::-1, ::-1]', fontdict)\n",
    "\n",
    "for ax in fig.axes:\n",
    "    ax.set_xticks([])\n",
    "    ax.set_yticks([])\n",
    "\n",
    "plt.show()"
   ]
  },
  {
   "cell_type": "markdown",
   "metadata": {},
   "source": [
    "## 3. Circular Shift"
   ]
  },
  {
   "cell_type": "code",
   "execution_count": 11,
   "metadata": {},
   "outputs": [],
   "source": [
    "cm_height, cm_width = cm.shape\n",
    "\n",
    "cm_cshift_1 = np.zeros_like(cm)\n",
    "cm_cshift_2 = np.zeros_like(cm)\n",
    "cm_cshift_3 = np.zeros_like(cm)\n",
    "\n",
    "cm_cshift_1[cm_height // 2:], cm_cshift_1[:cm_height // 2] = cm[:cm_height // 2], cm[cm_height // 2:]\n",
    "cm_cshift_2[:, cm_width // 2:], cm_cshift_2[:, :cm_width // 2] = cm[:, :cm_width // 2], cm[:, cm_width // 2:]\n",
    "cm_cshift_3[cm_height // 2:], cm_cshift_3[:cm_height // 2] = cm_cshift_2[:cm_height // 2], cm_cshift_2[cm_height // 2:]"
   ]
  },
  {
   "cell_type": "code",
   "execution_count": 12,
   "metadata": {},
   "outputs": [],
   "source": [
    "lenna_height, lenna_width, lenna_depth = lenna.shape\n",
    "\n",
    "lenna_cshift_1 = np.zeros_like(lenna)\n",
    "lenna_cshift_2 = np.zeros_like(lenna)\n",
    "lenna_cshift_3 = np.zeros_like(lenna)\n",
    "\n",
    "lenna_cshift_1[lenna_height // 2:], lenna_cshift_1[:lenna_height // 2] = lenna[:lenna_height // 2], lenna[lenna_height // 2:]\n",
    "lenna_cshift_2[:, lenna_width // 2:], lenna_cshift_2[:, :lenna_width // 2] = lenna[:, :lenna_width // 2], lenna[:, lenna_width // 2:]\n",
    "lenna_cshift_3[lenna_height // 2:], lenna_cshift_3[:lenna_height // 2] = lenna_cshift_2[:lenna_height // 2], lenna_cshift_2[lenna_height // 2:]"
   ]
  },
  {
   "cell_type": "code",
   "execution_count": null,
   "metadata": {},
   "outputs": [],
   "source": [
    "# plot\n",
    "nrows = 2\n",
    "ncols = 4\n",
    "fontdict = {'family': 'consolas'}\n",
    "\n",
    "fig, axs = plt.subplots(nrows=nrows, ncols=ncols, figsize=(ncols * 4, nrows * 4), layout='compressed')\n",
    "fig.suptitle(\"Rotational Shift\")\n",
    "\n",
    "axs[0, 0].imshow(cm, cmap='gray')\n",
    "axs[0, 0].set_title('cm', fontdict)\n",
    "axs[0, 1].imshow(cm_cshift_1, cmap='gray')\n",
    "axs[0, 1].set_title('cm_cshift_1', fontdict)\n",
    "axs[0, 2].imshow(cm_cshift_2, cmap='gray')\n",
    "axs[0, 2].set_title('cm_cshift_2', fontdict)\n",
    "axs[0, 3].imshow(cm_cshift_3, cmap='gray')\n",
    "axs[0, 3].set_title('cm_cshift_3', fontdict)\n",
    "\n",
    "axs[1, 0].imshow(lenna)\n",
    "axs[1, 0].set_title('lenna', fontdict)\n",
    "axs[1, 1].imshow(lenna_cshift_1)\n",
    "axs[1, 1].set_title('lenna_cshift_1', fontdict)\n",
    "axs[1, 2].imshow(lenna_cshift_2)\n",
    "axs[1, 2].set_title('lenna_cshift_2', fontdict)\n",
    "axs[1, 3].imshow(lenna_cshift_3)\n",
    "axs[1, 3].set_title('lenna_cshift_3', fontdict)\n",
    "\n",
    "for ax in fig.axes:\n",
    "    ax.set_xticks([])\n",
    "    ax.set_yticks([])\n",
    "\n",
    "plt.show()"
   ]
  },
  {
   "cell_type": "markdown",
   "metadata": {},
   "source": [
    "## 4. Rotation"
   ]
  },
  {
   "cell_type": "code",
   "execution_count": 14,
   "metadata": {},
   "outputs": [],
   "source": [
    "# outer rotation [manual]\n",
    "cm_orotate_45 = outer_rotate(img=cm, degree=45)\n",
    "cm_orotate_90 = outer_rotate(img=cm, degree=90)\n",
    "cm_orotate_257 = outer_rotate(img=cm, degree=257)\n",
    "\n",
    "# inner rotation [manual]\n",
    "cm_irotate_45 = inner_rotate(img=cm, degree=45)\n",
    "cm_irotate_90 = inner_rotate(img=cm, degree=90)\n",
    "cm_irotate_257 = inner_rotate(img=cm, degree=257)"
   ]
  },
  {
   "cell_type": "code",
   "execution_count": 15,
   "metadata": {},
   "outputs": [],
   "source": [
    "lenna_img = Image.fromarray(lenna)\n",
    "\n",
    "# outer rotation\n",
    "lenna_orotate_45 = lenna_img.rotate(angle=45)\n",
    "lenna_orotate_90 = lenna_img.rotate(angle=90)\n",
    "lenna_orotate_257 = lenna_img.rotate(angle=257)\n",
    "\n",
    "# inner rotation\n",
    "lenna_irotate_45 = lenna_img.rotate(angle=45, expand=True)\n",
    "lenna_irotate_90 = lenna_img.rotate(angle=90, expand=True)\n",
    "lenna_irotate_257 = lenna_img.rotate(angle=257, expand=True)"
   ]
  },
  {
   "cell_type": "code",
   "execution_count": null,
   "metadata": {},
   "outputs": [],
   "source": [
    "# plot\n",
    "nrows = 2\n",
    "ncols = 6\n",
    "fontdict = {'family': 'consolas'}\n",
    "\n",
    "fig, axs = plt.subplots(nrows=nrows, ncols=ncols, figsize=(ncols * 3, nrows * 4), layout='compressed')\n",
    "fig.suptitle('Rotation')\n",
    "\n",
    "axs[0, 0].imshow(cm_orotate_45, cmap='gray')\n",
    "axs[0, 0].set_title(\"45 degree\")\n",
    "axs[0, 1].imshow(cm_orotate_90, cmap='gray')\n",
    "axs[0, 1].set_title(\"90 degree\")\n",
    "axs[0, 2].imshow(cm_orotate_257, cmap='gray')\n",
    "axs[0, 2].set_title(\"257 degree\")\n",
    "axs[0, 3].imshow(cm_irotate_45, cmap='gray')\n",
    "axs[0, 3].set_title(\"45 degree + expand\")\n",
    "axs[0, 4].imshow(cm_irotate_90, cmap='gray')\n",
    "axs[0, 4].set_title(\"90 degree + expand\")\n",
    "axs[0, 5].imshow(cm_irotate_257, cmap='gray')\n",
    "axs[0, 5].set_title(\"257 degree + expand\")\n",
    "\n",
    "axs[1, 0].imshow(lenna_orotate_45)\n",
    "axs[1, 0].set_title(\"45 degree\")\n",
    "axs[1, 1].imshow(lenna_orotate_90)\n",
    "axs[1, 1].set_title(\"90 degree\")\n",
    "axs[1, 2].imshow(lenna_orotate_257)\n",
    "axs[1, 2].set_title(\"257 degree\")\n",
    "axs[1, 3].imshow(lenna_irotate_45)\n",
    "axs[1, 3].set_title(\"45 degree + expand\")\n",
    "axs[1, 4].imshow(lenna_irotate_90)\n",
    "axs[1, 4].set_title(\"90 degree + expand\")\n",
    "axs[1, 5].imshow(lenna_irotate_257)\n",
    "axs[1, 5].set_title(\"257 degree + expand\")\n",
    "\n",
    "for ax in fig.axes:\n",
    "    ax.set_xticks([])\n",
    "    ax.set_yticks([])\n",
    "\n",
    "plt.show()"
   ]
  }
 ],
 "metadata": {
  "kernelspec": {
   "display_name": "Python 3",
   "language": "python",
   "name": "python3"
  },
  "language_info": {
   "codemirror_mode": {
    "name": "ipython",
    "version": 3
   },
   "file_extension": ".py",
   "mimetype": "text/x-python",
   "name": "python",
   "nbconvert_exporter": "python",
   "pygments_lexer": "ipython3",
   "version": "3.12.3"
  }
 },
 "nbformat": 4,
 "nbformat_minor": 2
}
