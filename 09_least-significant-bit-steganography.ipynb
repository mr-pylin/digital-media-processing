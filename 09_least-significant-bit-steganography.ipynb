{
 "cells": [
  {
   "cell_type": "markdown",
   "metadata": {},
   "source": [
    "# Dependencies"
   ]
  },
  {
   "cell_type": "code",
   "execution_count": 1,
   "metadata": {},
   "outputs": [],
   "source": [
    "# global dependencies\n",
    "import matplotlib.pyplot as plt"
   ]
  },
  {
   "cell_type": "code",
   "execution_count": 2,
   "metadata": {},
   "outputs": [],
   "source": [
    "# local dependencies\n",
    "from utilities.steganography import Steganography\n",
    "from utilities.quality_assessment import mse"
   ]
  },
  {
   "cell_type": "code",
   "execution_count": 3,
   "metadata": {},
   "outputs": [],
   "source": [
    "# to stop printing the last returned value in each cell to the output\n",
    "from IPython.core.interactiveshell import InteractiveShell\n",
    "InteractiveShell.ast_node_interactivity = \"none\""
   ]
  },
  {
   "cell_type": "markdown",
   "metadata": {},
   "source": [
    "# Load an image"
   ]
  },
  {
   "cell_type": "code",
   "execution_count": 4,
   "metadata": {},
   "outputs": [],
   "source": [
    "lenna = plt.imread(fname= './assets/images/CH06_Fig0638(a)(lenna_RGB).tif')"
   ]
  },
  {
   "cell_type": "markdown",
   "metadata": {},
   "source": [
    "# Least Significant Bit (LSB) steganography\n",
    "   - Steganography involves hiding data within other data (digital media like images, audio files, or video files)\n",
    "   - LSB technique only works with `lossless` encodings like `PNG` images"
   ]
  },
  {
   "cell_type": "code",
   "execution_count": 5,
   "metadata": {},
   "outputs": [],
   "source": [
    "message = \"This is called Least Significant Bit (LSB) steganography\""
   ]
  },
  {
   "cell_type": "code",
   "execution_count": 6,
   "metadata": {},
   "outputs": [],
   "source": [
    "steganography = Steganography(encoding= 'ascii', n_lowest_bits= 3)"
   ]
  },
  {
   "cell_type": "code",
   "execution_count": 7,
   "metadata": {},
   "outputs": [],
   "source": [
    "message_length, encoded_image = steganography.encode(message= message, image= lenna)"
   ]
  },
  {
   "cell_type": "code",
   "execution_count": 8,
   "metadata": {},
   "outputs": [
    {
     "name": "stdout",
     "output_type": "stream",
     "text": [
      "This is called Least Significant Bit (LSB) steganography\n"
     ]
    }
   ],
   "source": [
    "deocded_text = steganography.decode(image= encoded_image, length= message_length)\n",
    "print(deocded_text)"
   ]
  },
  {
   "cell_type": "markdown",
   "metadata": {},
   "source": [
    "## Experiment 1"
   ]
  },
  {
   "cell_type": "code",
   "execution_count": 9,
   "metadata": {},
   "outputs": [],
   "source": [
    "message = \"This is called Least Significant Bit (LSB) steganography\" * 3000"
   ]
  },
  {
   "cell_type": "code",
   "execution_count": 10,
   "metadata": {},
   "outputs": [],
   "source": [
    "n_lowest_bits_1 = 2\n",
    "steganography = Steganography(encoding= 'ascii', n_lowest_bits= n_lowest_bits_1)\n",
    "message_length, encoded_image_1 = steganography.encode(message= message, image= lenna)\n",
    "deocded_text_1 = steganography.decode(image= encoded_image_1, length= message_length)"
   ]
  },
  {
   "cell_type": "markdown",
   "metadata": {},
   "source": [
    "## Experiment 2"
   ]
  },
  {
   "cell_type": "code",
   "execution_count": 11,
   "metadata": {},
   "outputs": [],
   "source": [
    "n_lowest_bits_2 = 6\n",
    "steganography = Steganography(encoding= 'ascii', n_lowest_bits= n_lowest_bits_2)\n",
    "message_length, encoded_image_2 = steganography.encode(message= message, image= lenna)\n",
    "deocded_text_2 = steganography.decode(image= encoded_image_2, length= message_length)"
   ]
  },
  {
   "cell_type": "markdown",
   "metadata": {},
   "source": [
    "## Experiment 3"
   ]
  },
  {
   "cell_type": "code",
   "execution_count": 12,
   "metadata": {},
   "outputs": [],
   "source": [
    "n_lowest_bits_3 = 7\n",
    "steganography = Steganography(encoding= 'ascii', n_lowest_bits= n_lowest_bits_3)\n",
    "message_length, encoded_image_3 = steganography.encode(message= message, image= lenna)\n",
    "deocded_text_3 = steganography.decode(image= encoded_image_3, length= message_length)"
   ]
  },
  {
   "cell_type": "markdown",
   "metadata": {},
   "source": [
    "## Experiment 4"
   ]
  },
  {
   "cell_type": "code",
   "execution_count": 13,
   "metadata": {},
   "outputs": [],
   "source": [
    "n_lowest_bits_4 = 8\n",
    "steganography = Steganography(encoding= 'ascii', n_lowest_bits= n_lowest_bits_4)\n",
    "message_length, encoded_image_4 = steganography.encode(message= message, image= lenna)\n",
    "deocded_text_4 = steganography.decode(image= encoded_image_3, length= message_length)"
   ]
  },
  {
   "cell_type": "markdown",
   "metadata": {},
   "source": [
    "## Results"
   ]
  },
  {
   "cell_type": "code",
   "execution_count": null,
   "metadata": {},
   "outputs": [],
   "source": [
    "# plot\n",
    "fig, axs = plt.subplots(nrows= 1, ncols= 5, figsize= (16, 4), layout= 'compressed')\n",
    "\n",
    "axs[0].imshow(lenna)\n",
    "axs[0].set_title(\"Original\")\n",
    "axs[0].axis('off')\n",
    "\n",
    "axs[1].imshow(encoded_image_1)\n",
    "axs[1].set_title(f\"lsb: {n_lowest_bits_1}bits  -  mse: {mse(lenna, encoded_image_1):.2f}\")\n",
    "axs[1].axis('off')\n",
    "\n",
    "axs[2].imshow(encoded_image_2)\n",
    "axs[2].set_title(f\"lsb: {n_lowest_bits_2}bits  -  mse: {mse(lenna, encoded_image_2):.2f}\")\n",
    "axs[2].axis('off')\n",
    "\n",
    "axs[3].imshow(encoded_image_3)\n",
    "axs[3].set_title(f\"lsb: {n_lowest_bits_3}bits  -  mse: {mse(lenna, encoded_image_3):.2f}\")\n",
    "axs[3].axis('off')\n",
    "\n",
    "axs[4].imshow(encoded_image_4)\n",
    "axs[4].set_title(f\"lsb: {n_lowest_bits_4}bits  -  mse: {mse(lenna, encoded_image_4):.2f}\")\n",
    "axs[4].axis('off')\n",
    "\n",
    "plt.show()"
   ]
  }
 ],
 "metadata": {
  "kernelspec": {
   "display_name": "Python 3",
   "language": "python",
   "name": "python3"
  },
  "language_info": {
   "codemirror_mode": {
    "name": "ipython",
    "version": 3
   },
   "file_extension": ".py",
   "mimetype": "text/x-python",
   "name": "python",
   "nbconvert_exporter": "python",
   "pygments_lexer": "ipython3",
   "version": "3.12.2"
  }
 },
 "nbformat": 4,
 "nbformat_minor": 2
}
