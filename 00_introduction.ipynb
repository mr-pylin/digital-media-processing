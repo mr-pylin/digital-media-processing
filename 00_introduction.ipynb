{
 "cells": [
  {
   "attachments": {},
   "cell_type": "markdown",
   "metadata": {},
   "source": [
    "# Dependencies"
   ]
  },
  {
   "cell_type": "code",
   "execution_count": 11,
   "metadata": {},
   "outputs": [],
   "source": [
    "# global dependencies\n",
    "import matplotlib.pyplot as plt\n",
    "from matplotlib.gridspec import GridSpec"
   ]
  },
  {
   "cell_type": "code",
   "execution_count": 12,
   "metadata": {},
   "outputs": [],
   "source": [
    "# to stop printing the last returned value in each cell to the output\n",
    "from IPython.core.interactiveshell import InteractiveShell\n",
    "InteractiveShell.ast_node_interactivity = \"none\""
   ]
  },
  {
   "attachments": {},
   "cell_type": "markdown",
   "metadata": {},
   "source": [
    "# Image Modes:\n",
    "   - GrayScale image\n",
    "      * colors are shades of gray [black & white]\n",
    "      * also known as a 2D Image [with ONE channel for each pixel]\n",
    "   - RGB image : \n",
    "      * colors are a combination of red, green, and blue\n",
    "      * also known as a 3D Image [with THREE channel for each pixel]\n",
    "   - RGBA image : \n",
    "      * colors are a combination of red, green, and blue\n",
    "      * also known as a 3D Image [with FOUR channels for each pixel]\n",
    "      * Alpha [The fourth channel] specifies the opacity for a color"
   ]
  },
  {
   "cell_type": "code",
   "execution_count": null,
   "metadata": {},
   "outputs": [],
   "source": [
    "# plt.imread Returns np.ndarray\n",
    "im_gs = plt.imread(fname='./assets/images/CH02_Fig0222(b)(cameraman).tif')\n",
    "im_gs2 = plt.imread(fname='./assets/images/horse.gif')\n",
    "im_rgb = plt.imread(fname='./assets/images/CH06_FigP0606(color_bars).tif')\n",
    "im_rgba = plt.imread(fname='./assets/images/lenna_rgb_2.png')\n",
    "\n",
    "# plot\n",
    "fig, axs = plt.subplots(nrows=1, ncols=4, figsize=(16, 5), layout='compressed')\n",
    "fig.suptitle('Read/Load Images')\n",
    "\n",
    "axs[0].imshow(im_gs, cmap='gray', vmin=0, vmax=255)\n",
    "axs[0].set_title('cameraman.tif')\n",
    "axs[1].imshow(im_gs2, cmap='gray', vmin=0, vmax=255)\n",
    "axs[1].set_title('horse.gif')\n",
    "axs[2].imshow(im_rgb, vmin=0, vmax=255)\n",
    "axs[2].set_title('RGB_cube.tif')\n",
    "axs[3].imshow(im_rgba, vmin=0, vmax=255)\n",
    "axs[3].set_title('lenna_rgb_2.png')\n",
    "\n",
    "plt.show()"
   ]
  },
  {
   "attachments": {},
   "cell_type": "markdown",
   "metadata": {},
   "source": [
    "## GrayScale images"
   ]
  },
  {
   "cell_type": "code",
   "execution_count": null,
   "metadata": {},
   "outputs": [],
   "source": [
    "im_gs.shape  # (256, 256): 2D image -> one channel: GrayLevels\n",
    "im_gs.dtype  # dtype('uint8') -> 8bit in range 0 to 255\n",
    "\n",
    "# plot\n",
    "fig = plt.figure(figsize=(4, 4), layout='compressed')\n",
    "im = plt.imshow(im_gs, cmap='gray', vmin=0, vmax=255)\n",
    "plt.colorbar(im, location='bottom', label=\"GrayLevels\").set_ticks([0, 255])\n",
    "plt.axis('off')\n",
    "plt.show()"
   ]
  },
  {
   "cell_type": "markdown",
   "metadata": {},
   "source": [
    "## RGB images"
   ]
  },
  {
   "cell_type": "code",
   "execution_count": 15,
   "metadata": {},
   "outputs": [],
   "source": [
    "im_rgb.shape  # (366, 409, 3): 3D image -> three channels: {'red', 'green', 'blue'}\n",
    "im_rgb.dtype  # dtype('uint8') -> 8bit in range 0 to 255"
   ]
  },
  {
   "cell_type": "code",
   "execution_count": 16,
   "metadata": {},
   "outputs": [],
   "source": [
    "# separate RGB channels\n",
    "im_rgb_r = im_rgb[:, :, 0]\n",
    "im_rgb_g = im_rgb[:, :, 1]\n",
    "im_rgb_b = im_rgb[:, :, 2]"
   ]
  },
  {
   "cell_type": "code",
   "execution_count": null,
   "metadata": {},
   "outputs": [],
   "source": [
    "fig = plt.figure(figsize=(16, 8), layout='compressed')\n",
    "\n",
    "gs = GridSpec(2, 4, figure=fig)\n",
    "ax1 = fig.add_subplot(gs[:, 0])\n",
    "ax2 = fig.add_subplot(gs[0, 1])\n",
    "ax3 = fig.add_subplot(gs[0, 2])\n",
    "ax4 = fig.add_subplot(gs[0, 3])\n",
    "ax5 = fig.add_subplot(gs[1, 1])\n",
    "ax6 = fig.add_subplot(gs[1, 2])\n",
    "ax7 = fig.add_subplot(gs[1, 3])\n",
    "\n",
    "for ax in fig.axes:\n",
    "    ax.set_xticks([])\n",
    "    ax.set_yticks([])\n",
    "\n",
    "ax1.imshow(im_rgb, vmin=0, vmax=255)\n",
    "ax1.set_title('[16,777,216 distinct colors]')\n",
    "im = ax2.imshow(im_rgb_r, cmap='Reds', vmin=0, vmax=255)\n",
    "ax2.set_title('R[256 distinct colors]')\n",
    "fig.colorbar(im, ax=ax2, location='top', label=\"Red\").set_ticks([0, 255])\n",
    "im = ax3.imshow(im_rgb_g, cmap='Greens', vmin=0, vmax=255)\n",
    "ax3.set_title('G[256 distinct colors]')\n",
    "fig.colorbar(im, ax=ax3, location='top', label=\"Green\").set_ticks([0, 255])\n",
    "im = ax4.imshow(im_rgb_b, cmap='Blues', vmin=0, vmax=255)\n",
    "ax4.set_title('B[256 distinct colors]')\n",
    "fig.colorbar(im, ax=ax4, location='top', label=\"Blue\").set_ticks([0, 255])\n",
    "im = ax5.imshow(im_rgb_r, cmap='gray', vmin=0, vmax=255)\n",
    "ax5.set_title('R[256 distinct colors]')\n",
    "fig.colorbar(im, ax=ax5, location='bottom', label=\"Red\").set_ticks([0, 255])\n",
    "im = ax6.imshow(im_rgb_g, cmap='gray', vmin=0, vmax=255)\n",
    "ax6.set_title('G[256 distinct colors]')\n",
    "fig.colorbar(im, ax=ax6, location='bottom', label=\"Green\").set_ticks([0, 255])\n",
    "im = ax7.imshow(im_rgb_b, cmap='gray', vmin=0, vmax=255)\n",
    "ax7.set_title('B[256 distinct colors]')\n",
    "fig.colorbar(im, ax=ax7, location='bottom', label=\"Blue\").set_ticks([0, 255])\n",
    "\n",
    "plt.show()"
   ]
  },
  {
   "cell_type": "markdown",
   "metadata": {},
   "source": [
    "## RGBA images"
   ]
  },
  {
   "cell_type": "code",
   "execution_count": 18,
   "metadata": {},
   "outputs": [],
   "source": [
    "im_rgba.shape  # (512, 512, 4): 3D image -> four channels: {'red', 'green', 'blue', 'alpha'}\n",
    "im_rgba.dtype  # dtype('float32') -> 32bit in range 0.0 to 1.0"
   ]
  },
  {
   "cell_type": "code",
   "execution_count": 19,
   "metadata": {},
   "outputs": [],
   "source": [
    "# separate RGBA channels\n",
    "im_rgba_r = im_rgba[:, :, 0]\n",
    "im_rgba_g = im_rgba[:, :, 1]\n",
    "im_rgba_b = im_rgba[:, :, 2]\n",
    "im_rgba_a = im_rgba[:, :, 3]"
   ]
  },
  {
   "cell_type": "code",
   "execution_count": null,
   "metadata": {},
   "outputs": [],
   "source": [
    "fig = plt.figure(figsize=(10, 6), layout='compressed')\n",
    "\n",
    "gs = GridSpec(2, 4, figure=fig)\n",
    "ax1 = fig.add_subplot(gs[0, :])\n",
    "ax2 = fig.add_subplot(gs[1, 0])\n",
    "ax3 = fig.add_subplot(gs[1, 1])\n",
    "ax4 = fig.add_subplot(gs[1, 2])\n",
    "ax5 = fig.add_subplot(gs[1, 3])\n",
    "\n",
    "for ax in fig.axes:\n",
    "    ax.set_xticks([])\n",
    "    ax.set_yticks([])\n",
    "\n",
    "ax1.imshow(im_rgba, vmin=0, vmax=1)\n",
    "ax2.imshow(im_rgba_r, cmap='Reds', vmin=0, vmax=1)\n",
    "ax2.set_title(\"red channel\")\n",
    "ax3.imshow(im_rgba_g, cmap='Greens', vmin=0, vmax=1)\n",
    "ax3.set_title(\"green channel\")\n",
    "ax4.imshow(im_rgba_b, cmap='Blues', vmin=0, vmax=1)\n",
    "ax4.set_title(\"blue channel\")\n",
    "ax5.imshow(im_rgba_a, cmap='gray', vmin=0, vmax=1)\n",
    "ax5.set_title(\"alpha channel\")\n",
    "\n",
    "plt.show()"
   ]
  }
 ],
 "metadata": {
  "kernelspec": {
   "display_name": "Python 3",
   "language": "python",
   "name": "python3"
  },
  "language_info": {
   "codemirror_mode": {
    "name": "ipython",
    "version": 3
   },
   "file_extension": ".py",
   "mimetype": "text/x-python",
   "name": "python",
   "nbconvert_exporter": "python",
   "pygments_lexer": "ipython3",
   "version": "3.12.3"
  },
  "orig_nbformat": 4
 },
 "nbformat": 4,
 "nbformat_minor": 2
}
